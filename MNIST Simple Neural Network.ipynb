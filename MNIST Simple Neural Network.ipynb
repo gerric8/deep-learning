{
    "metadata": {
        "language_info": {
            "name": "python", 
            "file_extension": ".py", 
            "pygments_lexer": "ipython3", 
            "nbconvert_exporter": "python", 
            "mimetype": "text/x-python", 
            "codemirror_mode": {
                "name": "ipython", 
                "version": 3
            }, 
            "version": "3.5.2"
        }, 
        "kernelspec": {
            "name": "python3", 
            "language": "python", 
            "display_name": "Python 3.5 (Experimental) with Spark 1.6"
        }
    }, 
    "nbformat": 4, 
    "nbformat_minor": 0, 
    "cells": [
        {
            "metadata": {
                "collapsed": false
            }, 
            "source": "import numpy\nfrom keras.datasets import mnist\nfrom keras.models import Sequential\nfrom keras.layers import Dense\nfrom keras.layers import Dropout\nfrom keras.utils import np_utils", 
            "outputs": [
                {
                    "name": "stderr", 
                    "output_type": "stream", 
                    "text": "Using TensorFlow backend.\n"
                }
            ], 
            "execution_count": 2, 
            "cell_type": "code"
        }, 
        {
            "metadata": {
                "scrolled": true, 
                "collapsed": false
            }, 
            "source": "## Plot ad hoc mnist instances\nfrom keras.datasets import mnist\n# load (downloaded if needed) the MNIST dataset\n(X_train, y_train), (X_test, y_test) = mnist.load_data()", 
            "outputs": [], 
            "execution_count": 3, 
            "cell_type": "code"
        }, 
        {
            "metadata": {
                "collapsed": false
            }, 
            "source": "print(X_train.shape)", 
            "outputs": [
                {
                    "name": "stdout", 
                    "output_type": "stream", 
                    "text": "(60000, 28, 28)\n"
                }
            ], 
            "execution_count": 4, 
            "cell_type": "code"
        }, 
        {
            "metadata": {
                "collapsed": false
            }, 
            "source": "# plot 4 images as gray scale\nimport matplotlib.pyplot as plt\n%matplotlib inline\nplt.subplot(221)\nplt.imshow(X_train[0], cmap=plt.get_cmap('gray'))\nplt.subplot(222)\nplt.imshow(X_train[1], cmap=plt.get_cmap('gray'))\nplt.subplot(223)\nplt.imshow(X_train[2], cmap=plt.get_cmap('gray'))\nplt.subplot(224)\nplt.imshow(X_train[3], cmap=plt.get_cmap('gray'))\n# show the plot\nplt.show()", 
            "outputs": [
                {
                    "metadata": {}, 
                    "output_type": "display_data", 
                    "data": {
                        "text/plain": "<matplotlib.figure.Figure at 0x7f8c401694e0>", 
                        "image/png": "[encoded data removed]"
                    }
                }
            ], 
            "execution_count": 5, 
            "cell_type": "code"
        }, 
        {
            "metadata": {
                "collapsed": false
            }, 
            "source": "# fix random seed for reproducibility\nseed = 7\nnumpy.random.seed(seed)", 
            "outputs": [], 
            "execution_count": 6, 
            "cell_type": "code"
        }, 
        {
            "metadata": {
                "collapsed": true
            }, 
            "source": "# flatten 28*28 images to a 784 vector for each image\nnum_pixels = X_train.shape[1] * X_train.shape[2]\nX_train = X_train.reshape(X_train.shape[0], num_pixels).astype('float32')\nX_test = X_test.reshape(X_test.shape[0], num_pixels).astype('float32')", 
            "outputs": [], 
            "execution_count": 7, 
            "cell_type": "code"
        }, 
        {
            "metadata": {
                "collapsed": false
            }, 
            "source": "print(X_train.shape)", 
            "outputs": [
                {
                    "name": "stdout", 
                    "output_type": "stream", 
                    "text": "(60000, 784)\n"
                }
            ], 
            "execution_count": 8, 
            "cell_type": "code"
        }, 
        {
            "metadata": {
                "collapsed": true
            }, 
            "source": "# normalize inputs from 0-255 to 0-1\nX_train = X_train / 255\nX_test = X_test / 255", 
            "outputs": [], 
            "execution_count": 9, 
            "cell_type": "code"
        }, 
        {
            "metadata": {
                "collapsed": false
            }, 
            "source": "print(y_train.shape)\nprint(y_train[0])\nprint(y_train[1])", 
            "outputs": [
                {
                    "name": "stdout", 
                    "output_type": "stream", 
                    "text": "(60000,)\n5\n0\n"
                }
            ], 
            "execution_count": 10, 
            "cell_type": "code"
        }, 
        {
            "metadata": {
                "collapsed": true
            }, 
            "source": "# one hot encode outputs\ny_train = np_utils.to_categorical(y_train)\ny_test = np_utils.to_categorical(y_test)\nnum_classes = y_test.shape[1]", 
            "outputs": [], 
            "execution_count": 11, 
            "cell_type": "code"
        }, 
        {
            "metadata": {
                "collapsed": false
            }, 
            "source": "print(y_train.shape)\nprint(y_train[0])\nprint(y_train[1])", 
            "outputs": [
                {
                    "name": "stdout", 
                    "output_type": "stream", 
                    "text": "(60000, 10)\n[ 0.  0.  0.  0.  0.  1.  0.  0.  0.  0.]\n[ 1.  0.  0.  0.  0.  0.  0.  0.  0.  0.]\n"
                }
            ], 
            "execution_count": 12, 
            "cell_type": "code"
        }, 
        {
            "metadata": {
                "collapsed": true
            }, 
            "source": "# define baseline model\ndef baseline_model():\n\t# create model\n\tmodel = Sequential()\n\tmodel.add(Dense(num_pixels, input_dim=num_pixels, kernel_initializer='normal', activation='relu'))\n\tmodel.add(Dense(num_classes, kernel_initializer='normal', activation='softmax'))\n\t# Compile model\n\tmodel.compile(loss='categorical_crossentropy', optimizer='adam', metrics=['accuracy'])\n\treturn model", 
            "outputs": [], 
            "execution_count": 13, 
            "cell_type": "code"
        }, 
        {
            "metadata": {
                "collapsed": false
            }, 
            "source": "# build the model\nmodel = baseline_model()\nprint(model.summary())", 
            "outputs": [
                {
                    "name": "stdout", 
                    "output_type": "stream", 
                    "text": "_________________________________________________________________\nLayer (type)                 Output Shape              Param #   \n=================================================================\ndense_1 (Dense)              (None, 784)               615440    \n_________________________________________________________________\ndense_2 (Dense)              (None, 10)                7850      \n=================================================================\nTotal params: 623,290\nTrainable params: 623,290\nNon-trainable params: 0\n_________________________________________________________________\nNone\n"
                }
            ], 
            "execution_count": 14, 
            "cell_type": "code"
        }, 
        {
            "metadata": {
                "collapsed": false
            }, 
            "source": "# Fit the model\nmodel.fit(X_train, y_train, validation_data=(X_test, y_test), epochs=10, batch_size=200, verbose=2)", 
            "outputs": [
                {
                    "name": "stdout", 
                    "output_type": "stream", 
                    "text": "Train on 60000 samples, validate on 10000 samples\nEpoch 1/10\n2s - loss: 0.2781 - acc: 0.9212 - val_loss: 0.1412 - val_acc: 0.9571\nEpoch 2/10\n1s - loss: 0.1117 - acc: 0.9676 - val_loss: 0.0922 - val_acc: 0.9710\nEpoch 3/10\n1s - loss: 0.0719 - acc: 0.9796 - val_loss: 0.0791 - val_acc: 0.9768\nEpoch 4/10\n1s - loss: 0.0508 - acc: 0.9855 - val_loss: 0.0753 - val_acc: 0.9769\nEpoch 5/10\n1s - loss: 0.0377 - acc: 0.9892 - val_loss: 0.0680 - val_acc: 0.9789\nEpoch 6/10\n1s - loss: 0.0268 - acc: 0.9928 - val_loss: 0.0642 - val_acc: 0.9799\nEpoch 7/10\n1s - loss: 0.0210 - acc: 0.9947 - val_loss: 0.0629 - val_acc: 0.9807\nEpoch 8/10\n1s - loss: 0.0140 - acc: 0.9970 - val_loss: 0.0631 - val_acc: 0.9803\nEpoch 9/10\n1s - loss: 0.0110 - acc: 0.9978 - val_loss: 0.0593 - val_acc: 0.9806\nEpoch 10/10\n1s - loss: 0.0081 - acc: 0.9983 - val_loss: 0.0587 - val_acc: 0.9813\n"
                }, 
                {
                    "output_type": "execute_result", 
                    "execution_count": 15, 
                    "metadata": {}, 
                    "data": {
                        "text/plain": "<keras.callbacks.History at 0x7f8b9c5bb908>"
                    }
                }
            ], 
            "execution_count": 15, 
            "cell_type": "code"
        }, 
        {
            "metadata": {
                "collapsed": false
            }, 
            "source": "# Final evaluation of the model\nscores = model.evaluate(X_test, y_test, verbose=0)\nprint(\"Baseline Error: %.2f%%\" % (100-scores[1]*100))", 
            "outputs": [
                {
                    "name": "stdout", 
                    "output_type": "stream", 
                    "text": "Baseline Error: 1.87%\n"
                }
            ], 
            "execution_count": 16, 
            "cell_type": "code"
        }, 
        {
            "metadata": {
                "collapsed": true
            }, 
            "source": "", 
            "outputs": [], 
            "execution_count": null, 
            "cell_type": "code"
        }
    ]
}