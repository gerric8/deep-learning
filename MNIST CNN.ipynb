{
    "metadata": {
        "language_info": {
            "name": "python", 
            "file_extension": ".py", 
            "pygments_lexer": "ipython3", 
            "nbconvert_exporter": "python", 
            "mimetype": "text/x-python", 
            "codemirror_mode": {
                "name": "ipython", 
                "version": 3
            }, 
            "version": "3.5.2"
        }, 
        "kernelspec": {
            "name": "python3", 
            "language": "python", 
            "display_name": "Python 3.5 (Experimental) with Spark 1.6"
        }
    }, 
    "nbformat": 4, 
    "nbformat_minor": 0, 
    "cells": [
        {
            "metadata": {
                "collapsed": false
            }, 
            "source": "import numpy\nfrom keras.datasets import mnist\nfrom keras.models import Sequential\nfrom keras.layers import Dense\nfrom keras.layers import Dropout\nfrom keras.layers import Flatten\nfrom keras.layers.convolutional import Conv2D\nfrom keras.layers.convolutional import MaxPooling2D\nfrom keras.utils import np_utils\nfrom keras import backend as K\nK.set_image_dim_ordering('tf')", 
            "outputs": [], 
            "execution_count": null, 
            "cell_type": "code"
        }, 
        {
            "metadata": {
                "collapsed": true
            }, 
            "source": "# fix random seed for reproducibility\nseed = 7\nnumpy.random.seed(seed)", 
            "outputs": [], 
            "execution_count": null, 
            "cell_type": "code"
        }, 
        {
            "metadata": {
                "collapsed": true
            }, 
            "source": "# load data\n(X_train, y_train), (X_test, y_test) = mnist.load_data()\n# reshape to be [samples][pixels][width][height]\nX_train = X_train.reshape(X_train.shape[0], 28, 28, 1).astype('float32')\nX_test = X_test.reshape(X_test.shape[0], 28, 28, 1).astype('float32')", 
            "outputs": [], 
            "execution_count": null, 
            "cell_type": "code"
        }, 
        {
            "metadata": {
                "collapsed": true
            }, 
            "source": "# normalize inputs from 0-255 to 0-1\nX_train = X_train / 255\nX_test = X_test / 255\n# one hot encode outputs\ny_train = np_utils.to_categorical(y_train)\ny_test = np_utils.to_categorical(y_test)\nnum_classes = y_test.shape[1]", 
            "outputs": [], 
            "execution_count": null, 
            "cell_type": "code"
        }, 
        {
            "metadata": {
                "collapsed": true
            }, 
            "source": "def baseline_model():\n\t# create model\n\tmodel = Sequential()\n\tmodel.add(Conv2D(32, (5, 5), input_shape=(28, 28, 1), activation='relu'))\n\tmodel.add(MaxPooling2D(pool_size=(2, 2)))\n\tmodel.add(Dropout(0.2))\n\tmodel.add(Flatten())\n\tmodel.add(Dense(128, activation='relu'))\n\tmodel.add(Dense(num_classes, activation='softmax'))\n\t# Compile model\n\tmodel.compile(loss='categorical_crossentropy', optimizer='adam', metrics=['accuracy'])\n\treturn model", 
            "outputs": [], 
            "execution_count": null, 
            "cell_type": "code"
        }, 
        {
            "metadata": {
                "scrolled": true, 
                "collapsed": false
            }, 
            "source": "# build the model\nmodel = baseline_model()\nprint(model.summary())\n# Fit the model\nmodel.fit(X_train, y_train, validation_data=(X_test, y_test), epochs=10, batch_size=200, verbose=2)", 
            "outputs": [], 
            "execution_count": null, 
            "cell_type": "code"
        }, 
        {
            "metadata": {
                "collapsed": false
            }, 
            "source": "# Final evaluation of the model\nscores = model.evaluate(X_test, y_test, verbose=0)\nprint(\"Baseline Error: %.2f%%\" % (100-scores[1]*100))", 
            "outputs": [], 
            "execution_count": null, 
            "cell_type": "code"
        }, 
        {
            "metadata": {
                "collapsed": true
            }, 
            "source": "", 
            "outputs": [], 
            "execution_count": null, 
            "cell_type": "code"
        }
    ]
}